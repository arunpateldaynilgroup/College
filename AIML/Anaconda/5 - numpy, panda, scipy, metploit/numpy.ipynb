{
 "cells": [
  {
   "cell_type": "markdown",
   "id": "dfa6017b-e598-4933-9cc1-29eaaa0884e5",
   "metadata": {},
   "source": [
    "Import numpy"
   ]
  },
  {
   "cell_type": "code",
   "execution_count": 1,
   "id": "7fdeaf83-8bf9-4510-8379-e5500b1de2f6",
   "metadata": {},
   "outputs": [],
   "source": [
    "import numpy as np"
   ]
  },
  {
   "cell_type": "code",
   "execution_count": 2,
   "id": "d13b38d8-8ad5-483e-a097-b18160dfcd15",
   "metadata": {},
   "outputs": [],
   "source": [
    "# create an array\n",
    "digits = np.array([\n",
    "      [1, 2, 3],\n",
    "      [4, 5, 6],\n",
    "    [6, 7, 9],\n",
    "    ])"
   ]
  },
  {
   "cell_type": "code",
   "execution_count": 3,
   "id": "a8bcca7a-cd78-4d96-b29d-485c69aa82d9",
   "metadata": {},
   "outputs": [
    {
     "data": {
      "text/plain": [
       "array([[1, 2, 3],\n",
       "       [4, 5, 6],\n",
       "       [6, 7, 9]])"
      ]
     },
     "execution_count": 3,
     "metadata": {},
     "output_type": "execute_result"
    }
   ],
   "source": [
    " digits"
   ]
  },
  {
   "cell_type": "code",
   "execution_count": 4,
   "id": "597723fe-1fb1-4aae-81b0-59b31cc17d77",
   "metadata": {},
   "outputs": [],
   "source": [
    "# addition of two integers\n",
    "a=2\n",
    "b=4"
   ]
  },
  {
   "cell_type": "code",
   "execution_count": 5,
   "id": "8f09d296-7862-4dca-96a8-406cb1fabd95",
   "metadata": {},
   "outputs": [
    {
     "data": {
      "text/plain": [
       "6"
      ]
     },
     "execution_count": 5,
     "metadata": {},
     "output_type": "execute_result"
    }
   ],
   "source": [
    "c=a+b\n",
    "c"
   ]
  },
  {
   "cell_type": "code",
   "execution_count": 6,
   "id": "2912f0e5-647c-47d2-9489-63cb13100aac",
   "metadata": {},
   "outputs": [],
   "source": [
    "# Study shape and axes of an array.\n",
    "temperatures = np.array([\n",
    "      29.3, 42.1, 18.8, 16.1, 38.0, 12.5,\n",
    "       12.6, 49.9, 38.6, 31.3, 9.2, 22.2\n",
    "    ]).reshape(2, 2, 3)\n"
   ]
  },
  {
   "cell_type": "code",
   "execution_count": 7,
   "id": "9cd57d71-f9de-4a9b-bbec-736006d44573",
   "metadata": {},
   "outputs": [
    {
     "data": {
      "text/plain": [
       "(2, 2, 3)"
      ]
     },
     "execution_count": 7,
     "metadata": {},
     "output_type": "execute_result"
    }
   ],
   "source": [
    "In [3]: temperatures.shape"
   ]
  },
  {
   "cell_type": "code",
   "execution_count": 8,
   "id": "8d6b1225-407c-493e-ad25-6894c94d72b6",
   "metadata": {},
   "outputs": [
    {
     "data": {
      "text/plain": [
       "array([[[29.3, 42.1, 18.8],\n",
       "        [16.1, 38. , 12.5]],\n",
       "\n",
       "       [[12.6, 49.9, 38.6],\n",
       "        [31.3,  9.2, 22.2]]])"
      ]
     },
     "execution_count": 8,
     "metadata": {},
     "output_type": "execute_result"
    }
   ],
   "source": [
    "In [4]: temperatures"
   ]
  },
  {
   "cell_type": "code",
   "execution_count": 9,
   "id": "b2f8bd26-99a3-43bb-b72a-d94588c5dac2",
   "metadata": {},
   "outputs": [
    {
     "data": {
      "text/plain": [
       "array([[[29.3, 16.1],\n",
       "        [42.1, 38. ],\n",
       "        [18.8, 12.5]],\n",
       "\n",
       "       [[12.6, 31.3],\n",
       "        [49.9,  9.2],\n",
       "        [38.6, 22.2]]])"
      ]
     },
     "execution_count": 9,
     "metadata": {},
     "output_type": "execute_result"
    }
   ],
   "source": [
    "In [5]: np.swapaxes(temperatures, 1, 2)"
   ]
  },
  {
   "cell_type": "code",
   "execution_count": 10,
   "id": "97b92b73-7983-465b-a748-a334444bda3b",
   "metadata": {},
   "outputs": [],
   "source": [
    "table = np.array([\n",
    "   ...:     [5, 3, 7, 1],\n",
    "   ...:     [2, 6, 7 ,9],\n",
    "   ...:     [1, 1, 1, 1],\n",
    "   ...:     [4, 3, 2, 0],\n",
    "   ...: ])\n"
   ]
  },
  {
   "cell_type": "code",
   "execution_count": 11,
   "id": "77852e92-1103-4240-8f9a-5ea1b3d2c95f",
   "metadata": {},
   "outputs": [
    {
     "data": {
      "text/plain": [
       "9"
      ]
     },
     "execution_count": 11,
     "metadata": {},
     "output_type": "execute_result"
    }
   ],
   "source": [
    "table.max()"
   ]
  },
  {
   "cell_type": "code",
   "execution_count": 12,
   "id": "8a460844-3edb-4b4a-9c25-919d5a4c4f87",
   "metadata": {},
   "outputs": [
    {
     "data": {
      "text/plain": [
       "array([5, 6, 7, 9])"
      ]
     },
     "execution_count": 12,
     "metadata": {},
     "output_type": "execute_result"
    }
   ],
   "source": [
    " table.max(axis=0)"
   ]
  },
  {
   "cell_type": "code",
   "execution_count": 13,
   "id": "fad9e337-6c66-4706-b491-3a42e12e8a4d",
   "metadata": {},
   "outputs": [
    {
     "data": {
      "text/plain": [
       "array([7, 9, 1, 4])"
      ]
     },
     "execution_count": 13,
     "metadata": {},
     "output_type": "execute_result"
    }
   ],
   "source": [
    " table.max(axis=1)"
   ]
  },
  {
   "cell_type": "code",
   "execution_count": 14,
   "id": "27a422ee-3c65-48cc-ac54-3fca0de49082",
   "metadata": {},
   "outputs": [],
   "source": [
    "#Study of Broadcasting with an array. \n",
    "A= np.arange(32).reshape(4, 1, 8)"
   ]
  },
  {
   "cell_type": "code",
   "execution_count": 15,
   "id": "3953bfc9-d474-4277-b456-66460e589aba",
   "metadata": {},
   "outputs": [
    {
     "data": {
      "text/plain": [
       "array([[[ 0,  1,  2,  3,  4,  5,  6,  7]],\n",
       "\n",
       "       [[ 8,  9, 10, 11, 12, 13, 14, 15]],\n",
       "\n",
       "       [[16, 17, 18, 19, 20, 21, 22, 23]],\n",
       "\n",
       "       [[24, 25, 26, 27, 28, 29, 30, 31]]])"
      ]
     },
     "execution_count": 15,
     "metadata": {},
     "output_type": "execute_result"
    }
   ],
   "source": [
    "A"
   ]
  },
  {
   "cell_type": "code",
   "execution_count": 16,
   "id": "02229bb2-ab4b-4c38-a3be-b5c5f2c751f7",
   "metadata": {},
   "outputs": [],
   "source": [
    "B = np.arange(48).reshape(1, 6, 8)\n"
   ]
  },
  {
   "cell_type": "code",
   "execution_count": 17,
   "id": "aba09f0a-84d0-4d6d-a501-a9a00f4aded7",
   "metadata": {},
   "outputs": [
    {
     "data": {
      "text/plain": [
       "array([[[ 0,  1,  2,  3,  4,  5,  6,  7],\n",
       "        [ 8,  9, 10, 11, 12, 13, 14, 15],\n",
       "        [16, 17, 18, 19, 20, 21, 22, 23],\n",
       "        [24, 25, 26, 27, 28, 29, 30, 31],\n",
       "        [32, 33, 34, 35, 36, 37, 38, 39],\n",
       "        [40, 41, 42, 43, 44, 45, 46, 47]]])"
      ]
     },
     "execution_count": 17,
     "metadata": {},
     "output_type": "execute_result"
    }
   ],
   "source": [
    "B"
   ]
  },
  {
   "cell_type": "code",
   "execution_count": 18,
   "id": "0f984910-10c2-4cd1-9cd4-b4fa20a722e7",
   "metadata": {},
   "outputs": [
    {
     "data": {
      "text/plain": [
       "array([[[ 0,  2,  4,  6,  8, 10, 12, 14],\n",
       "        [ 8, 10, 12, 14, 16, 18, 20, 22],\n",
       "        [16, 18, 20, 22, 24, 26, 28, 30],\n",
       "        [24, 26, 28, 30, 32, 34, 36, 38],\n",
       "        [32, 34, 36, 38, 40, 42, 44, 46],\n",
       "        [40, 42, 44, 46, 48, 50, 52, 54]],\n",
       "\n",
       "       [[ 8, 10, 12, 14, 16, 18, 20, 22],\n",
       "        [16, 18, 20, 22, 24, 26, 28, 30],\n",
       "        [24, 26, 28, 30, 32, 34, 36, 38],\n",
       "        [32, 34, 36, 38, 40, 42, 44, 46],\n",
       "        [40, 42, 44, 46, 48, 50, 52, 54],\n",
       "        [48, 50, 52, 54, 56, 58, 60, 62]],\n",
       "\n",
       "       [[16, 18, 20, 22, 24, 26, 28, 30],\n",
       "        [24, 26, 28, 30, 32, 34, 36, 38],\n",
       "        [32, 34, 36, 38, 40, 42, 44, 46],\n",
       "        [40, 42, 44, 46, 48, 50, 52, 54],\n",
       "        [48, 50, 52, 54, 56, 58, 60, 62],\n",
       "        [56, 58, 60, 62, 64, 66, 68, 70]],\n",
       "\n",
       "       [[24, 26, 28, 30, 32, 34, 36, 38],\n",
       "        [32, 34, 36, 38, 40, 42, 44, 46],\n",
       "        [40, 42, 44, 46, 48, 50, 52, 54],\n",
       "        [48, 50, 52, 54, 56, 58, 60, 62],\n",
       "        [56, 58, 60, 62, 64, 66, 68, 70],\n",
       "        [64, 66, 68, 70, 72, 74, 76, 78]]])"
      ]
     },
     "execution_count": 18,
     "metadata": {},
     "output_type": "execute_result"
    }
   ],
   "source": [
    "# Addition of two Arrays.\n",
    "A+B"
   ]
  },
  {
   "cell_type": "code",
   "execution_count": 19,
   "id": "bde63429-9ee3-41e1-a709-b589634883d5",
   "metadata": {},
   "outputs": [],
   "source": [
    "#Find the Square of an array.\n",
    "square = np.array([\n",
    "       [16, 3, 2, 13],\n",
    "       [5, 10, 11, 8],\n",
    "       [9, 6, 7, 12],\n",
    "       [4, 15, 14, 1]\n",
    "    ])"
   ]
  },
  {
   "cell_type": "code",
   "execution_count": 20,
   "id": "6ad47faf-d80b-4e3e-855e-7f9de168185b",
   "metadata": {},
   "outputs": [],
   "source": [
    "for i in range(4):\n",
    "   ...:     assert square[:, i].sum() == 34\n",
    "   ...:     assert square[i, :].sum() == 34\n",
    "   ...:"
   ]
  },
  {
   "cell_type": "code",
   "execution_count": 21,
   "id": "d182893a-3550-4923-9cc8-21b845be8f9a",
   "metadata": {},
   "outputs": [],
   "source": [
    "assert square[:2, :2].sum() == 34\n"
   ]
  },
  {
   "cell_type": "code",
   "execution_count": 22,
   "id": "c3067568-8632-4c72-ad19-ebcf7c8d18d2",
   "metadata": {},
   "outputs": [],
   "source": [
    "assert square[2:, :2].sum() == 34\n"
   ]
  },
  {
   "cell_type": "code",
   "execution_count": 23,
   "id": "50c7a911-39d3-4a3f-86d2-13e8d536128a",
   "metadata": {},
   "outputs": [],
   "source": [
    " assert square[:2, 2:].sum() == 34"
   ]
  },
  {
   "cell_type": "code",
   "execution_count": 24,
   "id": "ef22bc8d-9abe-459a-ad03-bfec4c317aac",
   "metadata": {},
   "outputs": [],
   "source": [
    "assert square[2:, 2:].sum() == 34"
   ]
  },
  {
   "cell_type": "code",
   "execution_count": 25,
   "id": "a6bbc0a8-01d9-4a93-9170-ff4c8e878b92",
   "metadata": {},
   "outputs": [],
   "source": [
    "#Study of masking and filtering.\n",
    "numbers = np.linspace(5, 50, 24, dtype=int).reshape(4, -1)"
   ]
  },
  {
   "cell_type": "code",
   "execution_count": 26,
   "id": "c6fdeb39-6407-44a4-b71b-4801c81adc69",
   "metadata": {},
   "outputs": [
    {
     "data": {
      "text/plain": [
       "array([[ 5,  6,  8, 10, 12, 14],\n",
       "       [16, 18, 20, 22, 24, 26],\n",
       "       [28, 30, 32, 34, 36, 38],\n",
       "       [40, 42, 44, 46, 48, 50]])"
      ]
     },
     "execution_count": 26,
     "metadata": {},
     "output_type": "execute_result"
    }
   ],
   "source": [
    "numbers"
   ]
  },
  {
   "cell_type": "code",
   "execution_count": 27,
   "id": "18268fd2-2972-46ff-a343-a1164209cd13",
   "metadata": {},
   "outputs": [],
   "source": [
    "mask = numbers % 4 == 0"
   ]
  },
  {
   "cell_type": "code",
   "execution_count": 28,
   "id": "455602d6-9a5d-4836-8444-6ba8fcae30ae",
   "metadata": {},
   "outputs": [
    {
     "data": {
      "text/plain": [
       "array([[False, False,  True, False,  True, False],\n",
       "       [ True, False,  True, False,  True, False],\n",
       "       [ True, False,  True, False,  True, False],\n",
       "       [ True, False,  True, False,  True, False]])"
      ]
     },
     "execution_count": 28,
     "metadata": {},
     "output_type": "execute_result"
    }
   ],
   "source": [
    "mask"
   ]
  },
  {
   "cell_type": "code",
   "execution_count": 29,
   "id": "62dc360b-8f7e-4e81-893b-be19ecb12058",
   "metadata": {},
   "outputs": [
    {
     "data": {
      "text/plain": [
       "array([ 8, 12, 16, 20, 24, 28, 32, 36, 40, 44, 48])"
      ]
     },
     "execution_count": 29,
     "metadata": {},
     "output_type": "execute_result"
    }
   ],
   "source": [
    "numbers[mask]"
   ]
  },
  {
   "cell_type": "code",
   "execution_count": 30,
   "id": "ebea2915-5e95-4db3-b399-2c389d57a6d7",
   "metadata": {},
   "outputs": [],
   "source": [
    "by_four = numbers[numbers % 4 == 0]"
   ]
  },
  {
   "cell_type": "code",
   "execution_count": 31,
   "id": "ed9f9f77-f756-4dcb-bfda-fba6b6918c8c",
   "metadata": {},
   "outputs": [
    {
     "data": {
      "text/plain": [
       "array([ 8, 12, 16, 20, 24, 28, 32, 36, 40, 44, 48])"
      ]
     },
     "execution_count": 31,
     "metadata": {},
     "output_type": "execute_result"
    }
   ],
   "source": [
    "by_four"
   ]
  },
  {
   "cell_type": "code",
   "execution_count": 32,
   "id": "5250399a-d40a-48ec-bcc9-c9a512670f2a",
   "metadata": {},
   "outputs": [],
   "source": [
    "from numpy.random import default_rng"
   ]
  },
  {
   "cell_type": "code",
   "execution_count": 33,
   "id": "ccd23d27-049d-4112-b7ef-876091a7e7ae",
   "metadata": {},
   "outputs": [],
   "source": [
    "rng = default_rng()"
   ]
  },
  {
   "cell_type": "code",
   "execution_count": 34,
   "id": "4cf189fc-844e-44e3-932f-cfe354312d3e",
   "metadata": {},
   "outputs": [],
   "source": [
    "values = rng.standard_normal(10000)"
   ]
  },
  {
   "cell_type": "code",
   "execution_count": 35,
   "id": "f8859eab-8f00-44f2-bf76-89ef8ceda0b5",
   "metadata": {},
   "outputs": [
    {
     "data": {
      "text/plain": [
       "array([ 0.11543196,  0.13168618,  1.77149602, -0.50434497,  1.55829363])"
      ]
     },
     "execution_count": 35,
     "metadata": {},
     "output_type": "execute_result"
    }
   ],
   "source": [
    " values[:5]"
   ]
  },
  {
   "cell_type": "code",
   "execution_count": 36,
   "id": "86b8e5e2-8a7a-4898-9cec-8634b8532e50",
   "metadata": {},
   "outputs": [],
   "source": [
    "std = values.std()"
   ]
  },
  {
   "cell_type": "code",
   "execution_count": 37,
   "id": "b2506ee4-8c9b-4704-b063-7432352f4828",
   "metadata": {},
   "outputs": [
    {
     "data": {
      "text/plain": [
       "1.0163551599608251"
      ]
     },
     "execution_count": 37,
     "metadata": {},
     "output_type": "execute_result"
    }
   ],
   "source": [
    "std"
   ]
  },
  {
   "cell_type": "code",
   "execution_count": 38,
   "id": "ab933b9a-b021-4a65-8798-2a620b6e70b3",
   "metadata": {},
   "outputs": [],
   "source": [
    "filtered = values[(values > -2 * std) & (values < 2 * std)]"
   ]
  },
  {
   "cell_type": "code",
   "execution_count": 39,
   "id": "30361e2e-87e3-4955-b1b9-0c004813a2ce",
   "metadata": {},
   "outputs": [
    {
     "data": {
      "text/plain": [
       "9542"
      ]
     },
     "execution_count": 39,
     "metadata": {},
     "output_type": "execute_result"
    }
   ],
   "source": [
    "filtered.size"
   ]
  },
  {
   "cell_type": "code",
   "execution_count": 40,
   "id": "bd9d3e96-d2e6-47ed-ba76-4b1f6e408acf",
   "metadata": {},
   "outputs": [
    {
     "data": {
      "text/plain": [
       "10000"
      ]
     },
     "execution_count": 40,
     "metadata": {},
     "output_type": "execute_result"
    }
   ],
   "source": [
    " values.size"
   ]
  },
  {
   "cell_type": "code",
   "execution_count": 41,
   "id": "cd9806ea-ad02-4161-ad2a-f6f00f4e41b5",
   "metadata": {},
   "outputs": [
    {
     "data": {
      "text/plain": [
       "0.9542"
      ]
     },
     "execution_count": 41,
     "metadata": {},
     "output_type": "execute_result"
    }
   ],
   "source": [
    "filtered.size / values.size"
   ]
  },
  {
   "cell_type": "code",
   "execution_count": 42,
   "id": "c09b8086-58d7-49f6-8dc6-9616ba5537dc",
   "metadata": {},
   "outputs": [],
   "source": [
    "a = np.array([\n",
    "       [1, 2],\n",
    "    [3, 4],\n",
    "    [5, 6],\n",
    "   ])\n"
   ]
  },
  {
   "cell_type": "code",
   "execution_count": 43,
   "id": "d0a90f59-ba34-4195-9977-0f6d4e923d06",
   "metadata": {},
   "outputs": [
    {
     "data": {
      "text/plain": [
       "array([[1, 3, 5],\n",
       "       [2, 4, 6]])"
      ]
     },
     "execution_count": 43,
     "metadata": {},
     "output_type": "execute_result"
    }
   ],
   "source": [
    "#Transposing, Sorting, and Concatenating of arrays.\n",
    "a.T"
   ]
  },
  {
   "cell_type": "code",
   "execution_count": 44,
   "id": "2ea1c205-669e-4c44-8340-7decd1514ca1",
   "metadata": {},
   "outputs": [
    {
     "data": {
      "text/plain": [
       "array([[1, 3, 5],\n",
       "       [2, 4, 6]])"
      ]
     },
     "execution_count": 44,
     "metadata": {},
     "output_type": "execute_result"
    }
   ],
   "source": [
    "a.transpose()"
   ]
  },
  {
   "cell_type": "code",
   "execution_count": 45,
   "id": "f109f50d-5ec7-43be-a745-d930139fffc8",
   "metadata": {},
   "outputs": [],
   "source": [
    "data = np.array([\n",
    "   ...:     [7, 1, 4],\n",
    "   ...:     [8, 6, 5],\n",
    "   ...:     [1, 2, 3]\n",
    "   ...: ])\n"
   ]
  },
  {
   "cell_type": "code",
   "execution_count": 46,
   "id": "20cdd908-550a-40a8-a7c7-a1810a74bfa8",
   "metadata": {},
   "outputs": [
    {
     "data": {
      "text/plain": [
       "array([[1, 4, 7],\n",
       "       [5, 6, 8],\n",
       "       [1, 2, 3]])"
      ]
     },
     "execution_count": 46,
     "metadata": {},
     "output_type": "execute_result"
    }
   ],
   "source": [
    "np.sort(data)"
   ]
  },
  {
   "cell_type": "code",
   "execution_count": 47,
   "id": "00e0e6ec-7b5b-44c6-b14e-74b24083cf29",
   "metadata": {},
   "outputs": [
    {
     "data": {
      "text/plain": [
       "array([1, 1, 2, 3, 4, 5, 6, 7, 8])"
      ]
     },
     "execution_count": 47,
     "metadata": {},
     "output_type": "execute_result"
    }
   ],
   "source": [
    "np.sort(data, axis=None)"
   ]
  },
  {
   "cell_type": "code",
   "execution_count": 48,
   "id": "ee918ced-fcfd-4a9f-a20b-ed50ba3872bd",
   "metadata": {},
   "outputs": [
    {
     "data": {
      "text/plain": [
       "array([[1, 1, 3],\n",
       "       [7, 2, 4],\n",
       "       [8, 6, 5]])"
      ]
     },
     "execution_count": 48,
     "metadata": {},
     "output_type": "execute_result"
    }
   ],
   "source": [
    "np.sort(data, axis=0)"
   ]
  },
  {
   "cell_type": "code",
   "execution_count": 49,
   "id": "2e86e73f-faab-4b31-98df-14ed4796575a",
   "metadata": {},
   "outputs": [],
   "source": [
    "a = np.array([\n",
    "   ...:     [4, 8],\n",
    "   ...:     [6, 1]\n",
    "   ...: ])\n"
   ]
  },
  {
   "cell_type": "code",
   "execution_count": 50,
   "id": "f4c0b6cd-f2d7-4381-861f-fb9474d695ab",
   "metadata": {},
   "outputs": [],
   "source": [
    "b = np.array([\n",
    "   ...:     [3, 5],\n",
    "   ...:     [7, 2],\n",
    "   ...: ])"
   ]
  },
  {
   "cell_type": "code",
   "execution_count": 51,
   "id": "760d48f7-0701-4e79-8367-d32d1076af41",
   "metadata": {},
   "outputs": [
    {
     "data": {
      "text/plain": [
       "array([[4, 8, 3, 5],\n",
       "       [6, 1, 7, 2]])"
      ]
     },
     "execution_count": 51,
     "metadata": {},
     "output_type": "execute_result"
    }
   ],
   "source": [
    "np.hstack((a, b))"
   ]
  },
  {
   "cell_type": "code",
   "execution_count": 52,
   "id": "f014277c-ad51-471a-863b-73c3990a99fb",
   "metadata": {},
   "outputs": [
    {
     "data": {
      "text/plain": [
       "array([[3, 5],\n",
       "       [7, 2],\n",
       "       [4, 8],\n",
       "       [6, 1]])"
      ]
     },
     "execution_count": 52,
     "metadata": {},
     "output_type": "execute_result"
    }
   ],
   "source": [
    "np.vstack((b, a))"
   ]
  },
  {
   "cell_type": "code",
   "execution_count": 53,
   "id": "25cbef4d-ec93-457a-a21c-c70c75bbb197",
   "metadata": {},
   "outputs": [
    {
     "data": {
      "text/plain": [
       "array([[4, 8],\n",
       "       [6, 1],\n",
       "       [3, 5],\n",
       "       [7, 2]])"
      ]
     },
     "execution_count": 53,
     "metadata": {},
     "output_type": "execute_result"
    }
   ],
   "source": [
    "np.concatenate((a, b))"
   ]
  },
  {
   "cell_type": "code",
   "execution_count": 54,
   "id": "c1526ad5-7065-470d-aaa1-1682e4a50df8",
   "metadata": {},
   "outputs": [
    {
     "data": {
      "text/plain": [
       "array([4, 8, 6, 1, 3, 5, 7, 2])"
      ]
     },
     "execution_count": 54,
     "metadata": {},
     "output_type": "execute_result"
    }
   ],
   "source": [
    "np.concatenate((a, b), axis=None)"
   ]
  },
  {
   "cell_type": "code",
   "execution_count": 55,
   "id": "1ffadbfb-7e60-4411-a53a-f193ea96d18b",
   "metadata": {},
   "outputs": [
    {
     "name": "stdout",
     "output_type": "stream",
     "text": [
      "Actual: 20.085536923187664\n",
      "N (terms)\tMaclaurin\tError\n",
      "1\t\t1.000\t\t19.086\n",
      "2\t\t4.000\t\t16.086\n",
      "3\t\t8.500\t\t11.586\n",
      "4\t\t13.000\t\t7.086\n",
      "5\t\t16.375\t\t3.711\n",
      "6\t\t18.400\t\t1.686\n",
      "7\t\t19.412\t\t0.673\n",
      "8\t\t19.846\t\t0.239\n",
      "9\t\t20.009\t\t0.076\n",
      "10\t\t20.063\t\t0.022\n",
      "11\t\t20.080\t\t0.006\n",
      "12\t\t20.084\t\t0.001\n",
      "13\t\t20.085\t\t0.000\n"
     ]
    }
   ],
   "source": [
    "#Implementation of Maclaurin Series.\n",
    "from math import e, factorial\n",
    "fac = np.vectorize(factorial)\n",
    "\n",
    "def e_x(x, terms=10):\n",
    "    \"\"\"Approximates e^x using a given number of terms of\n",
    "    the Maclaurin series\n",
    "    \"\"\"\n",
    "    n = np.arange(terms)\n",
    "    return np.sum((x ** n) / fac(n))\n",
    "\n",
    "if __name__ == \"__main__\":\n",
    "    print(\"Actual:\", e ** 3)  # Using e from the standard library\n",
    "\n",
    "    print(\"N (terms)\\tMaclaurin\\tError\")\n",
    "\n",
    "    for n in range(1, 14):\n",
    "        maclaurin = e_x(3, terms=n)\n",
    "        print(f\"{n}\\t\\t{maclaurin:.03f}\\t\\t{e**3 - maclaurin:.03f}\")"
   ]
  },
  {
   "cell_type": "code",
   "execution_count": 56,
   "id": "a527cd9a-af3e-43d1-83cd-9928560a12e7",
   "metadata": {},
   "outputs": [
    {
     "data": {
      "text/plain": [
       "array([1. , 3. , 5.5, 7.7, 9.2], dtype=float32)"
      ]
     },
     "execution_count": 56,
     "metadata": {},
     "output_type": "execute_result"
    }
   ],
   "source": [
    "#Study of different Datatypes(numerical,String)\n",
    "a = np.array([1, 3, 5.5, 7.7, 9.2], dtype=np.single)\n",
    "a"
   ]
  },
  {
   "cell_type": "code",
   "execution_count": 57,
   "id": "fd6d646f-5194-4339-954f-b02da57e5fdb",
   "metadata": {},
   "outputs": [
    {
     "data": {
      "text/plain": [
       "array([1, 3, 5, 7, 9], dtype=uint8)"
      ]
     },
     "execution_count": 57,
     "metadata": {},
     "output_type": "execute_result"
    }
   ],
   "source": [
    "b = np.array([1, 3, 5.5, 7.7, 9.2], dtype=np.uint8)\n",
    "b"
   ]
  },
  {
   "cell_type": "code",
   "execution_count": 58,
   "id": "a2ae0fe1-a973-45df-bbb4-7f6207bafef6",
   "metadata": {},
   "outputs": [],
   "source": [
    "names = np.array([\"bob\", \"amy\", \"han\"], dtype=str)"
   ]
  },
  {
   "cell_type": "code",
   "execution_count": 59,
   "id": "a674486c-dbb4-41e4-b849-cf042588ba40",
   "metadata": {},
   "outputs": [
    {
     "data": {
      "text/plain": [
       "array(['bob', 'amy', 'han'], dtype='<U3')"
      ]
     },
     "execution_count": 59,
     "metadata": {},
     "output_type": "execute_result"
    }
   ],
   "source": [
    "names"
   ]
  },
  {
   "cell_type": "code",
   "execution_count": 60,
   "id": "97ceec0b-e311-4d0d-9c26-940f21ade5b0",
   "metadata": {},
   "outputs": [
    {
     "data": {
      "text/plain": [
       "12"
      ]
     },
     "execution_count": 60,
     "metadata": {},
     "output_type": "execute_result"
    }
   ],
   "source": [
    "names.itemsize"
   ]
  },
  {
   "cell_type": "code",
   "execution_count": 61,
   "id": "e23644cf-960d-49f0-bc64-0c67a8c53d50",
   "metadata": {},
   "outputs": [],
   "source": [
    "names = np.array([\"bob\", \"amy\", \"han\"])"
   ]
  },
  {
   "cell_type": "code",
   "execution_count": 62,
   "id": "55392c6c-4bb4-4d5a-95b9-48174f21c850",
   "metadata": {},
   "outputs": [
    {
     "data": {
      "text/plain": [
       "array(['bob', 'amy', 'han'], dtype='<U3')"
      ]
     },
     "execution_count": 62,
     "metadata": {},
     "output_type": "execute_result"
    }
   ],
   "source": [
    "names"
   ]
  },
  {
   "cell_type": "code",
   "execution_count": 63,
   "id": "b13d10af-bb35-4d60-848f-fcf063a03650",
   "metadata": {},
   "outputs": [],
   "source": [
    "more_names = np.array([\"bobo\", \"jehosephat\"])"
   ]
  },
  {
   "cell_type": "code",
   "execution_count": 64,
   "id": "f2ddca2d-7690-472c-9794-06922ab8d262",
   "metadata": {},
   "outputs": [
    {
     "data": {
      "text/plain": [
       "array(['bob', 'amy', 'han', 'bobo', 'jehosephat'], dtype='<U10')"
      ]
     },
     "execution_count": 64,
     "metadata": {},
     "output_type": "execute_result"
    }
   ],
   "source": [
    "np.concatenate((names, more_names))"
   ]
  },
  {
   "cell_type": "code",
   "execution_count": 65,
   "id": "f6fd0756-8698-4fe7-b4d9-11395f8371e6",
   "metadata": {},
   "outputs": [],
   "source": [
    "names[2] = \"jasica\""
   ]
  },
  {
   "cell_type": "code",
   "execution_count": 66,
   "id": "9543d581-8316-43dd-a992-0ec30cd995e7",
   "metadata": {},
   "outputs": [
    {
     "data": {
      "text/plain": [
       "array(['bob', 'amy', 'jas'], dtype='<U3')"
      ]
     },
     "execution_count": 66,
     "metadata": {},
     "output_type": "execute_result"
    }
   ],
   "source": [
    "names"
   ]
  },
  {
   "cell_type": "code",
   "execution_count": 67,
   "id": "d8161345-e677-4e5a-9022-27200811cc54",
   "metadata": {},
   "outputs": [],
   "source": [
    "#Study of structured array\n",
    "data = np.array([\n",
    "     (\"joe\", 32, 6),\n",
    "     (\"mary\", 15, 20),\n",
    "    (\"felipe\", 80, 100),\n",
    "    (\"beyonce\", 38, 9001),\n",
    "   ], dtype=[(\"name\", str, 10), (\"age\", int), (\"power\", int)])\n"
   ]
  },
  {
   "cell_type": "code",
   "execution_count": 68,
   "id": "e1c93910-c2b5-4874-8993-c49540517392",
   "metadata": {},
   "outputs": [
    {
     "data": {
      "text/plain": [
       "('joe', 32, 6)"
      ]
     },
     "execution_count": 68,
     "metadata": {},
     "output_type": "execute_result"
    }
   ],
   "source": [
    "data[0]"
   ]
  },
  {
   "cell_type": "code",
   "execution_count": 69,
   "id": "65cce78d-5173-4afa-82fe-015cadae1e0b",
   "metadata": {},
   "outputs": [
    {
     "data": {
      "text/plain": [
       "array(['joe', 'mary', 'felipe', 'beyonce'], dtype='<U10')"
      ]
     },
     "execution_count": 69,
     "metadata": {},
     "output_type": "execute_result"
    }
   ],
   "source": [
    "data[\"name\"]"
   ]
  },
  {
   "cell_type": "code",
   "execution_count": 70,
   "id": "1585a1a8-e782-47ef-9582-03752ebdc851",
   "metadata": {},
   "outputs": [
    {
     "data": {
      "text/plain": [
       "array(['beyonce'], dtype='<U10')"
      ]
     },
     "execution_count": 70,
     "metadata": {},
     "output_type": "execute_result"
    }
   ],
   "source": [
    "data[data[\"power\"] > 9000][\"name\"]"
   ]
  },
  {
   "cell_type": "code",
   "execution_count": 71,
   "id": "e014cfb2-105d-46ab-a85b-8440b0391ff2",
   "metadata": {},
   "outputs": [
    {
     "name": "stdout",
     "output_type": "stream",
     "text": [
      "Numpy Version: 1.21.5\n"
     ]
    }
   ],
   "source": [
    "#numpy version\n",
    "print(\"Numpy Version:\",np.version.version)"
   ]
  },
  {
   "cell_type": "code",
   "execution_count": null,
   "id": "2a261d20-5f0f-4a40-b5b4-30baca213f76",
   "metadata": {},
   "outputs": [],
   "source": []
  }
 ],
 "metadata": {
  "kernelspec": {
   "display_name": "Python 3 (ipykernel)",
   "language": "python",
   "name": "python3"
  },
  "language_info": {
   "codemirror_mode": {
    "name": "ipython",
    "version": 3
   },
   "file_extension": ".py",
   "mimetype": "text/x-python",
   "name": "python",
   "nbconvert_exporter": "python",
   "pygments_lexer": "ipython3",
   "version": "3.9.12"
  }
 },
 "nbformat": 4,
 "nbformat_minor": 5
}
