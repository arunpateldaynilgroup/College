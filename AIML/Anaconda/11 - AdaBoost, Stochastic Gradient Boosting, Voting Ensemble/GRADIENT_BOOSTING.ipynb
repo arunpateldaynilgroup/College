{
 "cells": [
  {
   "cell_type": "code",
   "execution_count": 1,
   "id": "73cc79c2-d9db-4a3e-8ce2-d68341c938d3",
   "metadata": {},
   "outputs": [],
   "source": [
    "def gradient_descent(gradient, start, learn_rate, n_iter):\n",
    "    vector = start\n",
    "    for _ in range(n_iter):\n",
    "        diff = -learn_rate * gradient(vector)\n",
    "        vector += diff\n",
    "    return vector"
   ]
  },
  {
   "cell_type": "code",
   "execution_count": 2,
   "id": "f2ba488b-433c-4371-8a34-833b1ccabf9f",
   "metadata": {},
   "outputs": [],
   "source": [
    "import numpy as np\n",
    "\n",
    "def gradient_descent(\n",
    "    gradient, start, learn_rate, n_iter=50, tolerance=1e-06\n",
    "):\n",
    "    vector = start\n",
    "    for _ in range(n_iter):\n",
    "        diff = -learn_rate * gradient(vector)\n",
    "        if np.all(np.abs(diff) <= tolerance):\n",
    "            break\n",
    "        vector += diff\n",
    "    return vector"
   ]
  },
  {
   "cell_type": "code",
   "execution_count": 3,
   "id": "ba8db592-e71f-43dd-9877-7ea0875c82cb",
   "metadata": {},
   "outputs": [
    {
     "data": {
      "text/plain": [
       "2.210739197207331e-06"
      ]
     },
     "execution_count": 3,
     "metadata": {},
     "output_type": "execute_result"
    }
   ],
   "source": [
    " gradient_descent(\n",
    "...     gradient=lambda v: 2 * v, start=10.0, learn_rate=0.2\n",
    "... )"
   ]
  },
  {
   "cell_type": "code",
   "execution_count": 4,
   "id": "30329485-bbc3-46d6-8461-08ba0f3cae88",
   "metadata": {},
   "outputs": [
    {
     "data": {
      "text/plain": [
       "-4.77519666596786e-07"
      ]
     },
     "execution_count": 4,
     "metadata": {},
     "output_type": "execute_result"
    }
   ],
   "source": [
    "gradient_descent(\n",
    "...     gradient=lambda v: 2 * v, start=10.0, learn_rate=0.8\n",
    "... )"
   ]
  },
  {
   "cell_type": "code",
   "execution_count": 5,
   "id": "f1f4f19b-19a4-4f74-9961-95b2ef965781",
   "metadata": {},
   "outputs": [
    {
     "data": {
      "text/plain": [
       "6.050060671375367"
      ]
     },
     "execution_count": 5,
     "metadata": {},
     "output_type": "execute_result"
    }
   ],
   "source": [
    "gradient_descent(\n",
    "...     gradient=lambda v: 2 * v, start=10.0, learn_rate=0.005\n",
    "... )"
   ]
  },
  {
   "cell_type": "code",
   "execution_count": 6,
   "id": "6c9312aa-5e9a-42e0-b4f5-d097da7de8ed",
   "metadata": {},
   "outputs": [
    {
     "data": {
      "text/plain": [
       "9.952518849647663e-05"
      ]
     },
     "execution_count": 6,
     "metadata": {},
     "output_type": "execute_result"
    }
   ],
   "source": [
    "gradient_descent(\n",
    "...     gradient=lambda v: 2 * v, start=10.0, learn_rate=0.005,\n",
    "...     n_iter=100\n",
    "... )\n",
    "3.660323412732294\n",
    ">>> gradient_descent(\n",
    "...     gradient=lambda v: 2 * v, start=10.0, learn_rate=0.005,\n",
    "...     n_iter=1000\n",
    "... )\n",
    "0.0004317124741065828\n",
    ">>> gradient_descent(\n",
    "...     gradient=lambda v: 2 * v, start=10.0, learn_rate=0.005,\n",
    "...     n_iter=2000\n",
    "... )"
   ]
  },
  {
   "cell_type": "code",
   "execution_count": 7,
   "id": "1c93fe40-a965-4a01-aaf9-f4b82482d04e",
   "metadata": {},
   "outputs": [
    {
     "data": {
      "text/plain": [
       "-1.4207567437458342"
      ]
     },
     "execution_count": 7,
     "metadata": {},
     "output_type": "execute_result"
    }
   ],
   "source": [
    "gradient_descent(\n",
    "...     gradient=lambda v: 4 * v**3 - 10 * v - 3, start=0,\n",
    "...     learn_rate=0.2\n",
    "... )"
   ]
  },
  {
   "cell_type": "code",
   "execution_count": 8,
   "id": "c5e68c7a-0cf8-4db7-9a01-6ef7c7e4f5a7",
   "metadata": {},
   "outputs": [
    {
     "data": {
      "text/plain": [
       "1.285401330315467"
      ]
     },
     "execution_count": 8,
     "metadata": {},
     "output_type": "execute_result"
    }
   ],
   "source": [
    "gradient_descent(\n",
    "...     gradient=lambda v: 4 * v**3 - 10 * v - 3, start=0,\n",
    "...     learn_rate=0.1\n",
    "... )"
   ]
  },
  {
   "cell_type": "code",
   "execution_count": null,
   "id": "84f1de21-ff4b-498a-b2cf-35ec2a8699b4",
   "metadata": {},
   "outputs": [],
   "source": []
  }
 ],
 "metadata": {
  "kernelspec": {
   "display_name": "Python 3 (ipykernel)",
   "language": "python",
   "name": "python3"
  },
  "language_info": {
   "codemirror_mode": {
    "name": "ipython",
    "version": 3
   },
   "file_extension": ".py",
   "mimetype": "text/x-python",
   "name": "python",
   "nbconvert_exporter": "python",
   "pygments_lexer": "ipython3",
   "version": "3.9.12"
  }
 },
 "nbformat": 4,
 "nbformat_minor": 5
}
