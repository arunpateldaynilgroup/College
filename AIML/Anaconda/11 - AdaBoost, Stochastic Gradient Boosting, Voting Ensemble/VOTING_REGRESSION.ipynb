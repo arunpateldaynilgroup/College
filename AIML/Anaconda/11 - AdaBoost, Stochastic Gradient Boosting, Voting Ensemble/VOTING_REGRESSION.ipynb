{
 "cells": [
  {
   "cell_type": "code",
   "execution_count": 1,
   "id": "27915e84-ef28-4d90-9b19-fea9d8b699b8",
   "metadata": {},
   "outputs": [
    {
     "name": "stdout",
     "output_type": "stream",
     "text": [
      "(1000, 20) (1000,)\n"
     ]
    }
   ],
   "source": [
    "# test regression dataset\n",
    "from sklearn.datasets import make_regression\n",
    "# define dataset\n",
    "X, y = make_regression(n_samples=1000, n_features=20, n_informative=15, noise=0.1, random_state=1)\n",
    "# summarize the dataset\n",
    "print(X.shape, y.shape)"
   ]
  },
  {
   "cell_type": "code",
   "execution_count": 2,
   "id": "c2595fa0-3316-4abe-a1c9-6395afb0137e",
   "metadata": {},
   "outputs": [],
   "source": [
    "# get a voting ensemble of models\n",
    "def get_voting():\n",
    "\t# define the base models\n",
    "\tmodels = list()\n",
    "\tmodels.append(('cart1', DecisionTreeRegressor(max_depth=1)))\n",
    "\tmodels.append(('cart2', DecisionTreeRegressor(max_depth=2)))\n",
    "\tmodels.append(('cart3', DecisionTreeRegressor(max_depth=3)))\n",
    "\tmodels.append(('cart4', DecisionTreeRegressor(max_depth=4)))\n",
    "\tmodels.append(('cart5', DecisionTreeRegressor(max_depth=5)))\n",
    "\t# define the voting ensemble\n",
    "\tensemble = VotingRegressor(estimators=models)\n",
    "\treturn ensemble"
   ]
  },
  {
   "cell_type": "code",
   "execution_count": 3,
   "id": "a324d7bf-a31c-42d8-8e88-df0f3e50c15d",
   "metadata": {},
   "outputs": [],
   "source": [
    "# get a list of models to evaluate\n",
    "def get_models():\n",
    "\tmodels = dict()\n",
    "\tmodels['cart1'] = DecisionTreeRegressor(max_depth=1)\n",
    "\tmodels['cart2'] = DecisionTreeRegressor(max_depth=2)\n",
    "\tmodels['cart3'] = DecisionTreeRegressor(max_depth=3)\n",
    "\tmodels['cart4'] = DecisionTreeRegressor(max_depth=4)\n",
    "\tmodels['cart5'] = DecisionTreeRegressor(max_depth=5)\n",
    "\tmodels['voting'] = get_voting()\n",
    "\treturn models"
   ]
  },
  {
   "cell_type": "code",
   "execution_count": 4,
   "id": "5ceade32-e496-4178-b2c5-de950725cebe",
   "metadata": {},
   "outputs": [
    {
     "name": "stdout",
     "output_type": "stream",
     "text": [
      ">cart1 -161.519 (11.414)\n",
      ">cart2 -152.596 (11.271)\n",
      ">cart3 -142.378 (10.900)\n",
      ">cart4 -140.086 (12.469)\n",
      ">cart5 -137.793 (12.138)\n",
      ">voting -136.384 (11.269)\n"
     ]
    },
    {
     "data": {
      "image/png": "[encoded data removed]",
      "text/plain": [
       "<Figure size 432x288 with 1 Axes>"
      ]
     },
     "metadata": {
      "needs_background": "light"
     },
     "output_type": "display_data"
    }
   ],
   "source": [
    "# compare voting ensemble to each standalone models for regression\n",
    "from numpy import mean\n",
    "from numpy import std\n",
    "from sklearn.datasets import make_regression\n",
    "from sklearn.model_selection import cross_val_score\n",
    "from sklearn.model_selection import RepeatedKFold\n",
    "from sklearn.tree import DecisionTreeRegressor\n",
    "from sklearn.ensemble import VotingRegressor\n",
    "from matplotlib import pyplot\n",
    " \n",
    "# get the dataset\n",
    "def get_dataset():\n",
    "\tX, y = make_regression(n_samples=1000, n_features=20, n_informative=15, noise=0.1, random_state=1)\n",
    "\treturn X, y\n",
    " \n",
    "# get a voting ensemble of models\n",
    "def get_voting():\n",
    "\t# define the base models\n",
    "\tmodels = list()\n",
    "\tmodels.append(('cart1', DecisionTreeRegressor(max_depth=1)))\n",
    "\tmodels.append(('cart2', DecisionTreeRegressor(max_depth=2)))\n",
    "\tmodels.append(('cart3', DecisionTreeRegressor(max_depth=3)))\n",
    "\tmodels.append(('cart4', DecisionTreeRegressor(max_depth=4)))\n",
    "\tmodels.append(('cart5', DecisionTreeRegressor(max_depth=5)))\n",
    "\t# define the voting ensemble\n",
    "\tensemble = VotingRegressor(estimators=models)\n",
    "\treturn ensemble\n",
    " \n",
    "# get a list of models to evaluate\n",
    "def get_models():\n",
    "\tmodels = dict()\n",
    "\tmodels['cart1'] = DecisionTreeRegressor(max_depth=1)\n",
    "\tmodels['cart2'] = DecisionTreeRegressor(max_depth=2)\n",
    "\tmodels['cart3'] = DecisionTreeRegressor(max_depth=3)\n",
    "\tmodels['cart4'] = DecisionTreeRegressor(max_depth=4)\n",
    "\tmodels['cart5'] = DecisionTreeRegressor(max_depth=5)\n",
    "\tmodels['voting'] = get_voting()\n",
    "\treturn models\n",
    " \n",
    "# evaluate a give model using cross-validation\n",
    "def evaluate_model(model, X, y):\n",
    "\tcv = RepeatedKFold(n_splits=10, n_repeats=3, random_state=1)\n",
    "\tscores = cross_val_score(model, X, y, scoring='neg_mean_absolute_error', cv=cv, n_jobs=-1, error_score='raise')\n",
    "\treturn scores\n",
    " \n",
    "# define dataset\n",
    "X, y = get_dataset()\n",
    "# get the models to evaluate\n",
    "models = get_models()\n",
    "# evaluate the models and store results\n",
    "results, names = list(), list()\n",
    "for name, model in models.items():\n",
    "\tscores = evaluate_model(model, X, y)\n",
    "\tresults.append(scores)\n",
    "\tnames.append(name)\n",
    "\tprint('>%s %.3f (%.3f)' % (name, mean(scores), std(scores)))\n",
    "# plot model performance for comparison\n",
    "pyplot.boxplot(results, labels=names, showmeans=True)\n",
    "pyplot.show()"
   ]
  },
  {
   "cell_type": "code",
   "execution_count": 5,
   "id": "ab9a6941-3603-4390-a484-e7709bcac602",
   "metadata": {},
   "outputs": [
    {
     "name": "stdout",
     "output_type": "stream",
     "text": [
      "Predicted Value: 141.319\n"
     ]
    }
   ],
   "source": [
    "# make a prediction with a voting ensemble\n",
    "from sklearn.datasets import make_regression\n",
    "from sklearn.tree import DecisionTreeRegressor\n",
    "from sklearn.ensemble import VotingRegressor\n",
    "# define dataset\n",
    "X, y = make_regression(n_samples=1000, n_features=20, n_informative=15, noise=0.1, random_state=1)\n",
    "# define the base models\n",
    "models = list()\n",
    "models.append(('cart1', DecisionTreeRegressor(max_depth=1)))\n",
    "models.append(('cart2', DecisionTreeRegressor(max_depth=2)))\n",
    "models.append(('cart3', DecisionTreeRegressor(max_depth=3)))\n",
    "models.append(('cart4', DecisionTreeRegressor(max_depth=4)))\n",
    "models.append(('cart5', DecisionTreeRegressor(max_depth=5)))\n",
    "# define the voting ensemble\n",
    "ensemble = VotingRegressor(estimators=models)\n",
    "# fit the model on all available data\n",
    "ensemble.fit(X, y)\n",
    "# make a prediction for one example\n",
    "data = [[0.59332206,-0.56637507,1.34808718,-0.57054047,-0.72480487,1.05648449,0.77744852,0.07361796,0.88398267,2.02843157,1.01902732,0.11227799,0.94218853,0.26741783,0.91458143,-0.72759572,1.08842814,-0.61450942,-0.69387293,1.69169009]]\n",
    "yhat = ensemble.predict(data)\n",
    "print('Predicted Value: %.3f' % (yhat))"
   ]
  },
  {
   "cell_type": "code",
   "execution_count": null,
   "id": "8f3bf069-c3f7-42fe-b50a-9dfdcf8f6cd3",
   "metadata": {},
   "outputs": [],
   "source": []
  }
 ],
 "metadata": {
  "kernelspec": {
   "display_name": "Python 3 (ipykernel)",
   "language": "python",
   "name": "python3"
  },
  "language_info": {
   "codemirror_mode": {
    "name": "ipython",
    "version": 3
   },
   "file_extension": ".py",
   "mimetype": "text/x-python",
   "name": "python",
   "nbconvert_exporter": "python",
   "pygments_lexer": "ipython3",
   "version": "3.9.12"
  }
 },
 "nbformat": 4,
 "nbformat_minor": 5
}
