{
 "cells": [
  {
   "cell_type": "code",
   "execution_count": 1,
   "id": "18c6f629-6dde-464e-afe2-5e30006763e2",
   "metadata": {},
   "outputs": [],
   "source": [
    "# get a voting ensemble of models\n",
    "def get_voting():\n",
    "\t# define the base models\n",
    "\tmodels = list()\n",
    "\tmodels.append(('svm1', SVC(probability=True, kernel='poly', degree=1)))\n",
    "\tmodels.append(('svm2', SVC(probability=True, kernel='poly', degree=2)))\n",
    "\tmodels.append(('svm3', SVC(probability=True, kernel='poly', degree=3)))\n",
    "\tmodels.append(('svm4', SVC(probability=True, kernel='poly', degree=4)))\n",
    "\tmodels.append(('svm5', SVC(probability=True, kernel='poly', degree=5)))\n",
    "\t# define the voting ensemble\n",
    "\tensemble = VotingClassifier(estimators=models, voting='soft')\n",
    "\treturn ensemble"
   ]
  },
  {
   "cell_type": "code",
   "execution_count": 2,
   "id": "6538aaca-8254-4815-b887-b9e63237161c",
   "metadata": {},
   "outputs": [],
   "source": [
    "# get a list of models to evaluate\n",
    "def get_models():\n",
    "\tmodels = dict()\n",
    "\tmodels['svm1'] = SVC(probability=True, kernel='poly', degree=1)\n",
    "\tmodels['svm2'] = SVC(probability=True, kernel='poly', degree=2)\n",
    "\tmodels['svm3'] = SVC(probability=True, kernel='poly', degree=3)\n",
    "\tmodels['svm4'] = SVC(probability=True, kernel='poly', degree=4)\n",
    "\tmodels['svm5'] = SVC(probability=True, kernel='poly', degree=5)\n",
    "\tmodels['soft_voting'] = get_voting()\n",
    "\treturn models"
   ]
  },
  {
   "cell_type": "code",
   "execution_count": 3,
   "id": "a8f39ca6-f2d4-48f2-a354-e65418996bca",
   "metadata": {},
   "outputs": [
    {
     "name": "stdout",
     "output_type": "stream",
     "text": [
      ">svm1 0.855 (0.035)\n",
      ">svm2 0.859 (0.034)\n",
      ">svm3 0.890 (0.035)\n",
      ">svm4 0.808 (0.037)\n",
      ">svm5 0.850 (0.037)\n",
      ">soft_voting 0.923 (0.027)\n"
     ]
    },
    {
     "data": {
      "image/png": "[encoded data removed]",
      "text/plain": [
       "<Figure size 432x288 with 1 Axes>"
      ]
     },
     "metadata": {
      "needs_background": "light"
     },
     "output_type": "display_data"
    }
   ],
   "source": [
    "# compare soft voting ensemble to standalone classifiers\n",
    "from numpy import mean\n",
    "from numpy import std\n",
    "from sklearn.datasets import make_classification\n",
    "from sklearn.model_selection import cross_val_score\n",
    "from sklearn.model_selection import RepeatedStratifiedKFold\n",
    "from sklearn.svm import SVC\n",
    "from sklearn.ensemble import VotingClassifier\n",
    "from matplotlib import pyplot\n",
    " \n",
    "# get the dataset\n",
    "def get_dataset():\n",
    "\tX, y = make_classification(n_samples=1000, n_features=20, n_informative=15, n_redundant=5, random_state=2)\n",
    "\treturn X, y\n",
    " \n",
    "# get a voting ensemble of models\n",
    "def get_voting():\n",
    "\t# define the base models\n",
    "\tmodels = list()\n",
    "\tmodels.append(('svm1', SVC(probability=True, kernel='poly', degree=1)))\n",
    "\tmodels.append(('svm2', SVC(probability=True, kernel='poly', degree=2)))\n",
    "\tmodels.append(('svm3', SVC(probability=True, kernel='poly', degree=3)))\n",
    "\tmodels.append(('svm4', SVC(probability=True, kernel='poly', degree=4)))\n",
    "\tmodels.append(('svm5', SVC(probability=True, kernel='poly', degree=5)))\n",
    "\t# define the voting ensemble\n",
    "\tensemble = VotingClassifier(estimators=models, voting='soft')\n",
    "\treturn ensemble\n",
    " \n",
    "# get a list of models to evaluate\n",
    "def get_models():\n",
    "\tmodels = dict()\n",
    "\tmodels['svm1'] = SVC(probability=True, kernel='poly', degree=1)\n",
    "\tmodels['svm2'] = SVC(probability=True, kernel='poly', degree=2)\n",
    "\tmodels['svm3'] = SVC(probability=True, kernel='poly', degree=3)\n",
    "\tmodels['svm4'] = SVC(probability=True, kernel='poly', degree=4)\n",
    "\tmodels['svm5'] = SVC(probability=True, kernel='poly', degree=5)\n",
    "\tmodels['soft_voting'] = get_voting()\n",
    "\treturn models\n",
    " \n",
    "# evaluate a give model using cross-validation\n",
    "def evaluate_model(model, X, y):\n",
    "\tcv = RepeatedStratifiedKFold(n_splits=10, n_repeats=3, random_state=1)\n",
    "\tscores = cross_val_score(model, X, y, scoring='accuracy', cv=cv, n_jobs=-1, error_score='raise')\n",
    "\treturn scores\n",
    " \n",
    "# define dataset\n",
    "X, y = get_dataset()\n",
    "# get the models to evaluate\n",
    "models = get_models()\n",
    "# evaluate the models and store results\n",
    "results, names = list(), list()\n",
    "for name, model in models.items():\n",
    "\tscores = evaluate_model(model, X, y)\n",
    "\tresults.append(scores)\n",
    "\tnames.append(name)\n",
    "\tprint('>%s %.3f (%.3f)' % (name, mean(scores), std(scores)))\n",
    "# plot model performance for comparison\n",
    "pyplot.boxplot(results, labels=names, showmeans=True)\n",
    "pyplot.show()"
   ]
  },
  {
   "cell_type": "code",
   "execution_count": 4,
   "id": "dd76a518-29ed-48da-b8d2-a6b1aee97fd0",
   "metadata": {},
   "outputs": [
    {
     "name": "stdout",
     "output_type": "stream",
     "text": [
      "Predicted Class: 1\n"
     ]
    }
   ],
   "source": [
    "# make a prediction with a soft voting ensemble\n",
    "from sklearn.datasets import make_classification\n",
    "from sklearn.ensemble import VotingClassifier\n",
    "from sklearn.svm import SVC\n",
    "# define dataset\n",
    "X, y = make_classification(n_samples=1000, n_features=20, n_informative=15, n_redundant=5, random_state=2)\n",
    "# define the base models\n",
    "models = list()\n",
    "models.append(('svm1', SVC(probability=True, kernel='poly', degree=1)))\n",
    "models.append(('svm2', SVC(probability=True, kernel='poly', degree=2)))\n",
    "models.append(('svm3', SVC(probability=True, kernel='poly', degree=3)))\n",
    "models.append(('svm4', SVC(probability=True, kernel='poly', degree=4)))\n",
    "models.append(('svm5', SVC(probability=True, kernel='poly', degree=5)))\n",
    "# define the soft voting ensemble\n",
    "ensemble = VotingClassifier(estimators=models, voting='soft')\n",
    "# fit the model on all available data\n",
    "ensemble.fit(X, y)\n",
    "# make a prediction for one example\n",
    "data = [[5.88891819,2.64867662,-0.42728226,-1.24988856,-0.00822,-3.57895574,2.87938412,-1.55614691,-0.38168784,7.50285659,-1.16710354,-5.02492712,-0.46196105,-0.64539455,-1.71297469,0.25987852,-0.193401,-5.52022952,0.0364453,-1.960039]]\n",
    "yhat = ensemble.predict(data)\n",
    "print('Predicted Class: %d' % (yhat))"
   ]
  },
  {
   "cell_type": "code",
   "execution_count": null,
   "id": "41e787a1-7470-445f-94de-13d4f1003b31",
   "metadata": {},
   "outputs": [],
   "source": []
  }
 ],
 "metadata": {
  "kernelspec": {
   "display_name": "Python 3 (ipykernel)",
   "language": "python",
   "name": "python3"
  },
  "language_info": {
   "codemirror_mode": {
    "name": "ipython",
    "version": 3
   },
   "file_extension": ".py",
   "mimetype": "text/x-python",
   "name": "python",
   "nbconvert_exporter": "python",
   "pygments_lexer": "ipython3",
   "version": "3.9.12"
  }
 },
 "nbformat": 4,
 "nbformat_minor": 5
}
